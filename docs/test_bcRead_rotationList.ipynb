{
 "cells": [
  {
   "cell_type": "markdown",
   "metadata": {},
   "source": [
    "### Testing Optimal Rotation Lists\n",
    "\n",
    "The rotation list is a series of (cumulative) degree rotations an image is passed through if a matching barcode is not found. A long list increases the runtime before the image is given up on. However a short list may skip over crooked barcodes.\n",
    "\n",
    "To run this notebook it needs to be placed in the root directory. This test runs as follows: using the same, image with an even barcode: iterate over rotations testing which rotation list is faster and better at getting all codes."
   ]
  },
  {
   "cell_type": "code",
   "execution_count": 4,
   "metadata": {},
   "outputs": [],
   "source": [
    "from libs.bcRead import bcRead\n",
    "import cv2\n",
    "import rawpy\n",
    "from rawpy import LibRawNonFatalError, LibRawFatalError\n",
    "import numpy as np"
   ]
  },
  {
   "cell_type": "code",
   "execution_count": 2,
   "metadata": {},
   "outputs": [],
   "source": [
    "def openImageFile(imgPath, demosaic=rawpy.DemosaicAlgorithm.AHD):\n",
    "        \"\"\" given an image path, attempts to return a numpy array image object\n",
    "        \"\"\"\n",
    "        usr_gamma = 2.2\n",
    "        gamma_value = (usr_gamma, usr_gamma)\n",
    "        try:  # use rawpy to convert raw to openCV\n",
    "            with rawpy.imread(imgPath) as raw:\n",
    "                im = raw.postprocess(chromatic_aberration=(1, 1),\n",
    "                                      demosaic_algorithm=demosaic,\n",
    "                                      gamma=gamma_value,\n",
    "                                      output_color=rawpy.ColorSpace.raw)\n",
    "\n",
    "        # if it is not a raw format, just try and open it.\n",
    "        except LibRawNonFatalError:\n",
    "            bgr = cv2.imread(imgPath)\n",
    "            im = cv2.cvtColor(bgr, cv2.COLOR_BGR2RGB)\n",
    "        except LibRawFatalError:\n",
    "            raise\n",
    "        return im\n",
    "\n",
    "def rotim(img, angle):\n",
    "    \"\"\" given a np array image object (img), and an angle rotates the img\n",
    "        without cropping the corners.\n",
    "    \"\"\"\n",
    "    # see: https://stackoverflow.com/questions/48479656/how-can-i-rotate-an-ndarray-image-properly\n",
    "    # https://www.pyimagesearch.com/2017/01/02/rotate-images-correctly-with-opencv-and-python/\n",
    "\n",
    "    (height, width) = img.shape[:2]\n",
    "    (cent_x, cent_y) = (width // 2, height // 2)\n",
    "    mat = cv2.getRotationMatrix2D((cent_x, cent_y), -angle, 1.0)\n",
    "    cos = np.abs(mat[0, 0])\n",
    "    sin = np.abs(mat[0, 1])\n",
    "    n_width = int((height * sin) + (width * cos))\n",
    "    n_height = int((height * cos) + (width * sin))\n",
    "    mat[0, 2] += (n_width / 2) - cent_x\n",
    "    mat[1, 2] += (n_height / 2) - cent_y\n",
    "\n",
    "    rotated_img = cv2.warpAffine(img, mat, (n_width, n_height))\n",
    "    return rotated_img"
   ]
  },
  {
   "cell_type": "code",
   "execution_count": 5,
   "metadata": {},
   "outputs": [
    {
     "name": "stdout",
     "output_type": "stream",
     "text": [
      " for list 0:\n",
      "required: 84.78585410118103 seconds\n",
      "[21, 28] degrees failed\n",
      " for list 1:\n",
      "required: 82.47723722457886 seconds\n",
      "[21, 28] degrees failed\n",
      " for list 2:\n",
      "required: 83.81493592262268 seconds\n",
      "[21] degrees failed\n",
      " for list 3:\n",
      "required: 97.86682343482971 seconds\n",
      "[21] degrees failed\n"
     ]
    }
   ],
   "source": [
    "imgPath = './exampleImages/various_images/query1.jpg'\n",
    "im = openImageFile(imgPath)\n",
    "import time\n",
    "\n",
    "for i, rotationList in enumerate( [ [9,15,18], [18,15,9], [9,25,18], [9,15,9,18] ]):\n",
    "    bcReader = bcRead('HTTU', 6, rotationList)\n",
    "    failed = []\n",
    "    startTime = time.time()\n",
    "    for n in range(0, 90, 7):\n",
    "        img = rotim(im,n)\n",
    "        result = bcReader.decodeBC(img, return_details=True)\n",
    "        if len(result) == 0:\n",
    "            failed.append(n)\n",
    "    runTime = time.time() - startTime\n",
    "    print(f' for list {i}:')\n",
    "    print(f'required: {runTime} seconds')\n",
    "    print(f'{failed} degrees failed')\n"
   ]
  },
  {
   "cell_type": "markdown",
   "metadata": {},
   "source": [
    "For now, the list: `[9,25,18]` appears to be the best although a much longer more iterative testing procedure may prove mildly useful."
   ]
  },
  {
   "cell_type": "code",
   "execution_count": null,
   "metadata": {},
   "outputs": [],
   "source": []
  }
 ],
 "metadata": {
  "kernelspec": {
   "display_name": "Python 3",
   "language": "python",
   "name": "python3"
  },
  "language_info": {
   "codemirror_mode": {
    "name": "ipython",
    "version": 3
   },
   "file_extension": ".py",
   "mimetype": "text/x-python",
   "name": "python",
   "nbconvert_exporter": "python",
   "pygments_lexer": "ipython3",
   "version": "3.7.3"
  }
 },
 "nbformat": 4,
 "nbformat_minor": 2
}
