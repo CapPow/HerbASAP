{
 "cells": [
  {
   "cell_type": "markdown",
   "metadata": {},
   "source": [
    "### Testing optimization of bcRead\n",
    "To run this code, place the notebook in the autoPostProcessing folder\n",
    "( you may need to pull most recent changes for the folder structures"
   ]
  },
  {
   "cell_type": "code",
   "execution_count": 5,
   "metadata": {},
   "outputs": [],
   "source": [
    "from libs import bcRead\n",
    "from libs.eqRead import eqRead\n",
    "\n",
    "import rawpy\n",
    "from rawpy import LibRawNonFatalError\n",
    "import cv2\n",
    "import numpy as np\n",
    "#import piexif\n",
    "import lensfunpy\n",
    "import time\n",
    "import timeit\n",
    "from PIL import Image\n",
    "import pandas as pd\n",
    "from glob import glob\n",
    "\n",
    "def openImageFile(imgPath, demosaic = rawpy.DemosaicAlgorithm.AHD):\n",
    "    \"\"\" given an image path, attempts to return a numpy array image object \"\"\"\n",
    "\n",
    "    try:  # use rawpy to convert raw to openCV\n",
    "        #https://letmaik.github.io/rawpy/api/rawpy.Params.html?highlight=demosaic%20algorithms\n",
    "        with rawpy.imread(imgPath) as raw:\n",
    "            bgr = raw.postprocess(chromatic_aberration=(1,1),\n",
    "                                  demosaic_algorithm = demosaic) # a numpy RGB array\n",
    "            im = cv2.cvtColor(bgr, cv2.COLOR_BGR2RGB) # the OpenCV image\n",
    "\n",
    "    # if it is not a raw format, just try and open it.\n",
    "    except LibRawNonFatalError:\n",
    "        im = cv2.imread(imgPath)\n",
    "    # convert cv2 format to rgb\n",
    "    return im\n"
   ]
  },
  {
   "cell_type": "markdown",
   "metadata": {},
   "source": [
    "#### Initiate the class, & pre-compile the regex"
   ]
  },
  {
   "cell_type": "code",
   "execution_count": 10,
   "metadata": {},
   "outputs": [],
   "source": [
    "imgPath = './exampleImages/UCHT_test_set/UCHT_busy_noBlur_1BC.CR2'\n",
    "\n",
    "prefix = \"UCHT\"\n",
    "digits = 6\n",
    "bcRead = bcRead.bcRead(prefix, digits)"
   ]
  },
  {
   "cell_type": "markdown",
   "metadata": {},
   "source": [
    "#### Test preemptive grey scale conversion"
   ]
  },
  {
   "cell_type": "code",
   "execution_count": 51,
   "metadata": {},
   "outputs": [
    {
     "name": "stdout",
     "output_type": "stream",
     "text": [
      "greyScale times averaged 1.163443684577942\n",
      "RGBscale times averaged 1.431900644302368\n",
      " converting to grey scale was: 0.2684569597244262 seconds faster\n"
     ]
    }
   ],
   "source": [
    "# open the file\n",
    "im = openImageFile(imgPath)\n",
    "\n",
    "greyTimes = []\n",
    "for i in range(0,20):\n",
    "    startTime = time.time()\n",
    "    grey = cv2.cvtColor(im, cv2.COLOR_RGB2GRAY)\n",
    "    # resize the image for bc process\n",
    "    # 1250, 1875\n",
    "    # read the BC\n",
    "    bc = bcRead.decodeBC(grey)\n",
    "    bcs = len(bc)\n",
    "    if bcs < 1:\n",
    "        print('no bcFound')\n",
    "    elapsedTime = time.time() - startTime\n",
    "    greyTimes.append(elapsedTime)\n",
    "\n",
    "greyScaleTimes = np.mean(greyTimes)\n",
    "print(f'greyScale times averaged {greyScaleTimes}')\n",
    "\n",
    "# open the file\n",
    "im = openImageFile(imgPath)\n",
    "\n",
    "times = []\n",
    "for i in range(0,20):\n",
    "    startTime = time.time()\n",
    "    # resize the image for bc process\n",
    "    # 1250, 1875\n",
    "    # read the BC\n",
    "    bc = bcRead.decodeBC(im)\n",
    "    bcs = len(bc)\n",
    "    if bcs < 1:\n",
    "        print('no bcFound')\n",
    "    #print(f'barcode(s) found: {bc}')\n",
    "    elapsedTime = time.time() - startTime\n",
    "    times.append(elapsedTime)\n",
    "\n",
    "rgbScaleTimes = np.mean(times)\n",
    "print(f'RGBscale times averaged {rgbScaleTimes}')\n",
    "\n",
    "diff =  rgbScaleTimes - greyScaleTimes\n",
    "print(f' converting to grey scale was: {diff} seconds faster')"
   ]
  },
  {
   "cell_type": "markdown",
   "metadata": {},
   "source": [
    "#### Converting to Greyscale is well worth the cost."
   ]
  },
  {
   "cell_type": "markdown",
   "metadata": {},
   "source": [
    "#### Test image size reduction"
   ]
  },
  {
   "cell_type": "code",
   "execution_count": 52,
   "metadata": {
    "scrolled": true
   },
   "outputs": [
    {
     "name": "stdout",
     "output_type": "stream",
     "text": [
      "(3870, 5796)\n",
      "unScaled times averaged 1.13950355052948\n",
      "(2786, 4347)\n",
      "Down Scaled times averaged 0.6824545860290527\n",
      " converting to grey scale was: 0.4570489645004272 seconds faster\n"
     ]
    }
   ],
   "source": [
    "# open the file\n",
    "im = openImageFile(imgPath)\n",
    "\n",
    "unScaledTimes = []\n",
    "for i in range(0,20):\n",
    "    startTime = time.time()\n",
    "    grey = cv2.cvtColor(im, cv2.COLOR_RGB2GRAY)\n",
    "    # read the BC\n",
    "    bc = bcRead.decodeBC(grey)\n",
    "    bcs = len(bc)\n",
    "    if bcs < 1:\n",
    "        print('no bcFound')\n",
    "    elapsedTime = time.time() - startTime\n",
    "    unScaledTimes.append(elapsedTime)\n",
    "\n",
    "print(grey.shape)\n",
    "    \n",
    "unScaledTime = np.mean(unScaledTimes)\n",
    "print(f'unScaled times averaged {unScaledTime}')\n",
    "\n",
    "# open the file\n",
    "im = openImageFile(imgPath)\n",
    "\n",
    "# .75 size of default large CR2 from UCHT equipment\n",
    "# sizes ~ 60% seem to fail to find bc.\n",
    "\n",
    "largeDim = 4347\n",
    "smalldim = 2902\n",
    "\n",
    "downScaledTimes = []\n",
    "for i in range(0,20):\n",
    "    startTime = time.time()\n",
    "    grey = cv2.cvtColor(im, cv2.COLOR_RGB2GRAY)\n",
    "    # resize the image for bc process\n",
    "    h, w = grey.shape\n",
    "    if w > h:\n",
    "        w = largeDim\n",
    "        h = smallDim   \n",
    "    else:\n",
    "        w = smallDim\n",
    "        h = largeDim\n",
    "    res = cv2.resize(grey,(w, h), interpolation = cv2.INTER_AREA)\n",
    "    bc = bcRead.decodeBC(res)\n",
    "    bcs = len(bc)\n",
    "    if bcs < 1:\n",
    "        print('no bcFound')\n",
    "    elapsedTime = time.time() - startTime\n",
    "    downScaledTimes.append(elapsedTime)\n",
    "\n",
    "print(res.shape)\n",
    "downScaledTime = np.mean(downScaledTimes)\n",
    "print(f'Down Scaled times averaged {downScaledTime}')\n",
    "\n",
    "diff = unScaledTime - downScaledTime\n",
    "print(f' converting to grey scale was: {diff} seconds faster')"
   ]
  },
  {
   "cell_type": "markdown",
   "metadata": {},
   "source": [
    "#### down scaling and greyscaling appear to be worth the cost."
   ]
  },
  {
   "cell_type": "code",
   "execution_count": 54,
   "metadata": {},
   "outputs": [
    {
     "name": "stdout",
     "output_type": "stream",
     "text": [
      "combined, greyscale and downscale costs 0.6824545860290527 seconds compared to 1.431900644302368\n",
      "A 0.7494460582733153 difference\n"
     ]
    }
   ],
   "source": [
    "print(f'combined, greyscale and downscale costs {downScaledTime} seconds compared to {rgbScaleTimes}')\n",
    "print(f'A {rgbScaleTimes - downScaledTime} difference')"
   ]
  },
  {
   "cell_type": "code",
   "execution_count": null,
   "metadata": {},
   "outputs": [],
   "source": []
  }
 ],
 "metadata": {
  "kernelspec": {
   "display_name": "Python 3",
   "language": "python",
   "name": "python3"
  },
  "language_info": {
   "codemirror_mode": {
    "name": "ipython",
    "version": 3
   },
   "file_extension": ".py",
   "mimetype": "text/x-python",
   "name": "python",
   "nbconvert_exporter": "python",
   "pygments_lexer": "ipython3",
   "version": "3.7.3"
  }
 },
 "nbformat": 4,
 "nbformat_minor": 2
}
